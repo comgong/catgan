{
 "cells": [
  {
   "cell_type": "code",
   "execution_count": 1,
   "metadata": {},
   "outputs": [],
   "source": [
    "import tensorflow as tf\n",
    "import tensorflow.contrib.layers as layers\n",
    "from tensorflow.examples.tutorials.mnist import input_data\n",
    "import numpy as np\n",
    "import matplotlib.pyplot as plt\n",
    "import matplotlib.gridspec as gridspec\n",
    "import tensorflow.contrib.slim as slim\n",
    "import os"
   ]
  },
  {
   "cell_type": "code",
   "execution_count": null,
   "metadata": {},
   "outputs": [],
   "source": []
  },
  {
   "cell_type": "code",
   "execution_count": 2,
   "metadata": {},
   "outputs": [],
   "source": [
    "mb_size = 32\n",
    "batch_size = 32\n",
    "X_dim = [28,28,1]\n",
    "z_dim = 100\n",
    "h_dim = 128\n",
    "lr = 1e-3\n",
    "d_steps = 3\n",
    "n_class = 10\n",
    "nz = 100 # z dim"
   ]
  },
  {
   "cell_type": "code",
   "execution_count": 3,
   "metadata": {},
   "outputs": [
    {
     "name": "stdout",
     "output_type": "stream",
     "text": [
      "Extracting ../../MNIST_data/train-images-idx3-ubyte.gz\n",
      "Extracting ../../MNIST_data/train-labels-idx1-ubyte.gz\n",
      "Extracting ../../MNIST_data/t10k-images-idx3-ubyte.gz\n",
      "Extracting ../../MNIST_data/t10k-labels-idx1-ubyte.gz\n"
     ]
    },
    {
     "data": {
      "image/png": "[encoded data removed]",
      "text/plain": [
       "<matplotlib.figure.Figure at 0x7fa726c44c10>"
      ]
     },
     "metadata": {},
     "output_type": "display_data"
    }
   ],
   "source": [
    "mnist = input_data.read_data_sets('../../MNIST_data', one_hot=True)\n",
    "x_train = mnist.train.images[:50,:]\n",
    "x_train = x_train.reshape([50,28,28,1])\n",
    "#randomNum = random.randint(0,25)\n",
    "image = x_train[0]\n",
    "plt.imshow(image[:,:,0], cmap=plt.get_cmap('gray_r'))\n",
    "plt.show()"
   ]
  },
  {
   "cell_type": "code",
   "execution_count": 4,
   "metadata": {},
   "outputs": [],
   "source": [
    "def plot(samples):\n",
    "    fig = plt.figure(figsize=(4, 8))\n",
    "    gs = gridspec.GridSpec(4, 8)\n",
    "    gs.update(wspace=0.05, hspace=0.05)\n",
    "    #print len(samples)\n",
    "    for i, sample in enumerate(samples):\n",
    "        #print i\n",
    "        ax = plt.subplot(gs[i])\n",
    "        plt.axis('off')\n",
    "        ax.set_xticklabels([])\n",
    "        ax.set_yticklabels([])\n",
    "        ax.set_aspect('equal')\n",
    "        plt.imshow(sample.reshape(28, 28), cmap='Greys_r')\n",
    "\n",
    "    return fig"
   ]
  },
  {
   "cell_type": "code",
   "execution_count": 5,
   "metadata": {},
   "outputs": [],
   "source": [
    "def xavier_init(size):\n",
    "    in_dim = size[0]\n",
    "    xavier_stddev = 1. / tf.sqrt(in_dim / 2.)\n",
    "    return tf.random_normal(shape=size, stddev=xavier_stddev)"
   ]
  },
  {
   "cell_type": "code",
   "execution_count": 6,
   "metadata": {},
   "outputs": [],
   "source": [
    "def log(x):\n",
    "    return tf.log(x + 1e-8)\n",
    "    "
   ]
  },
  {
   "cell_type": "code",
   "execution_count": 7,
   "metadata": {},
   "outputs": [],
   "source": [
    "X = tf.placeholder(\n",
    "            name='image', dtype=tf.float32,\n",
    "            shape=[batch_size, 28, 28, 1],\n",
    "        )\n",
    "z = tf.placeholder(tf.float32, shape=[None, nz])\n",
    "y = tf.placeholder(\n",
    "            name='label', dtype=tf.float32, shape=[batch_size, n_class],\n",
    "        )\n",
    "\n",
    "D_W1 = tf.Variable(xavier_init([28, 28, h_dim]))\n",
    "D_b1 = tf.Variable(tf.zeros(shape=[h_dim]))\n",
    "D_W2 = tf.Variable(xavier_init([h_dim, n_class]))\n",
    "D_b2 = tf.Variable(tf.zeros(shape=[n_class]))\n",
    "\n",
    "G_W1 = tf.Variable(xavier_init([z_dim, h_dim]))\n",
    "G_b1 = tf.Variable(tf.zeros(shape=[h_dim]))\n",
    "G_W2 = tf.Variable(xavier_init([h_dim, 28, 28]))\n",
    "G_b2 = tf.Variable(tf.zeros(shape=[28, 28]))\n",
    "\n",
    "# theta_G = [G_W1, G_W2, G_b1, G_b2]\n",
    "# theta_D = [D_W1, D_W2, D_b1, D_b2]"
   ]
  },
  {
   "cell_type": "code",
   "execution_count": null,
   "metadata": {},
   "outputs": [],
   "source": []
  },
  {
   "cell_type": "code",
   "execution_count": 8,
   "metadata": {},
   "outputs": [
    {
     "name": "stdout",
     "output_type": "stream",
     "text": [
      "float32\n"
     ]
    }
   ],
   "source": [
    "def sample_z(m, n):\n",
    "    sample = np.random.uniform(-1., 1., size=[m, n])\n",
    "    sample = sample.astype(np.float32, copy=False)\n",
    "    #y = x.view('float32')\n",
    "    #y[:] = x\n",
    "    return sample\n",
    "\n",
    "my_sample = sample_z(5,1)\n",
    "print my_sample.dtype"
   ]
  },
  {
   "cell_type": "code",
   "execution_count": 9,
   "metadata": {},
   "outputs": [],
   "source": [
    "data_info = np.array([28, 28, 10, 1])\n",
    "\n",
    "conv_info = np.array([32, 64, 128])\n",
    "\n",
    "deconv_info = np.array([[100, 2, 1], [25, 3, 2], [6, 4, 2], [1, 6, 2]])"
   ]
  },
  {
   "cell_type": "code",
   "execution_count": 10,
   "metadata": {},
   "outputs": [],
   "source": [
    "def lrelu(x, leak=0.2, name=\"lrelu\"):\n",
    "    with tf.variable_scope(name):\n",
    "        f1 = 0.5 * (1 + leak)\n",
    "        f2 = 0.5 * (1 - leak)\n",
    "        return f1 * x + f2 * abs(x)\n",
    "\n",
    "def huber_loss(labels, predictions, delta=1.0):\n",
    "    residual = tf.abs(predictions - labels)\n",
    "    condition = tf.less(residual, delta)\n",
    "    small_res = 0.5 * tf.square(residual)\n",
    "    large_res = delta * residual - 0.5 * tf.square(delta)\n",
    "    return tf.where(condition, small_res, large_res)\n",
    "\n",
    "def conv2d(input, output_shape, is_train, k_h=5, k_w=5, stddev=0.02, name=\"conv2d\"):\n",
    "    with tf.variable_scope(name):\n",
    "        w = tf.get_variable('w', [k_h, k_w, input.get_shape()[-1], output_shape],\n",
    "                            initializer=tf.truncated_normal_initializer(stddev=stddev))\n",
    "        conv = tf.nn.conv2d(input, w, strides=[1, 2, 2, 1], padding='SAME')\n",
    "\n",
    "        biases = tf.get_variable('biases', [output_shape], initializer=tf.constant_initializer(0.0))\n",
    "        conv = lrelu(tf.reshape(tf.nn.bias_add(conv, biases), conv.get_shape()))\n",
    "        bn = tf.contrib.layers.batch_norm(conv, center=True, scale=True,\n",
    "                                          decay=0.9, is_training=is_train,\n",
    "                                          updates_collections=None)\n",
    "    return bn\n",
    "\n",
    "def deconv2d(input, deconv_info, is_train, name=\"deconv2d\", stddev=0.02, activation_fn=None):\n",
    "    with tf.variable_scope(name):\n",
    "        output_shape = deconv_info[0]\n",
    "        k = deconv_info[1]\n",
    "        s = deconv_info[2]\n",
    "        deconv = layers.conv2d_transpose(\n",
    "            input, num_outputs=output_shape,\n",
    "            weights_initializer=tf.truncated_normal_initializer(stddev=stddev),\n",
    "            biases_initializer=tf.zeros_initializer(),\n",
    "            kernel_size=[k, k], stride=[s, s], padding='VALID'\n",
    "        )\n",
    "        if not activation_fn:\n",
    "            deconv = tf.nn.relu(deconv)\n",
    "            deconv = tf.contrib.layers.batch_norm(\n",
    "                deconv, center=True, scale=True,  decay=0.9,\n",
    "                is_training=is_train, updates_collections=None\n",
    "            )\n",
    "        else:\n",
    "            deconv = activation_fn(deconv)\n",
    "        return deconv"
   ]
  },
  {
   "cell_type": "code",
   "execution_count": 11,
   "metadata": {},
   "outputs": [],
   "source": [
    "is_train=True\n",
    "image_shape = [32, 28, 28, 1]\n",
    "def G(z, scope='Generator'):\n",
    "    with tf.variable_scope(scope) as scope:\n",
    "        #log.warn(scope.name)\n",
    "        z = tf.reshape(z, [batch_size, 1, 1, -1])\n",
    "        g_1 = deconv2d(z, deconv_info[0], is_train, name='g_1_deconv')\n",
    "        #log.info('{} {}'.format(scope.name, g_1))\n",
    "        g_2 = deconv2d(g_1, deconv_info[1], is_train, name='g_2_deconv')\n",
    "        #log.info('{} {}'.format(scope.name, g_2))\n",
    "        g_3 = deconv2d(g_2, deconv_info[2], is_train, name='g_3_deconv')\n",
    "        #log.info('{} {}'.format(scope.name, g_3))\n",
    "        g_4 = deconv2d(g_3, deconv_info[3], is_train, name='g_4_deconv', activation_fn=tf.tanh)\n",
    "        #log.info('{} {}'.format(scope.name, g_4))\n",
    "        output = g_4\n",
    "        #print X.get_shape().as_list()\n",
    "        assert output.get_shape().as_list() == image_shape, output.get_shape().as_list()\n",
    "        return output"
   ]
  },
  {
   "cell_type": "code",
   "execution_count": 12,
   "metadata": {},
   "outputs": [],
   "source": [
    "def D(img, scope='Discriminator', reuse=True):\n",
    "    with tf.variable_scope(scope, reuse=reuse) as scope:\n",
    "        #if not reuse: log.warn(scope.name)\n",
    "        d_1 = conv2d(img, conv_info[0], is_train, name='d_1_conv')\n",
    "        d_1 = slim.dropout(d_1, keep_prob=0.5, is_training=is_train, scope='d_1_conv/')\n",
    "        #if not reuse: log.info('{} {}'.format(scope.name, d_1))\n",
    "        d_2 = conv2d(d_1, conv_info[1], is_train, name='d_2_conv')\n",
    "        d_2 = slim.dropout(d_2, keep_prob=0.5, is_training=is_train, scope='d_2_conv/')\n",
    "        #if not reuse: log.info('{} {}'.format(scope.name, d_2))\n",
    "        d_3 = conv2d(d_2, conv_info[2], is_train, name='d_3_conv')\n",
    "        d_3 = slim.dropout(d_3, keep_prob=0.5, is_training=is_train, scope='d_3_conv/')\n",
    "        #if not reuse: log.info('{} {}'.format(scope.name, d_3))\n",
    "        d_4 = slim.fully_connected(\n",
    "            tf.reshape(d_3, [batch_size, -1]), n_class, scope='d_4_fc', activation_fn=None)\n",
    "        #if not reuse: log.info('{} {}'.format(scope.name, d_4))\n",
    "        output = d_4\n",
    "        assert output.get_shape().as_list() == [batch_size, n_class]\n",
    "        return tf.nn.softmax(output), output"
   ]
  },
  {
   "cell_type": "code",
   "execution_count": 13,
   "metadata": {},
   "outputs": [],
   "source": [
    "epsilon = 1.0e-6\n",
    "LAMBA = 1\n",
    "# y has dim batch_size x num_classes\n",
    "# entropy 1\n",
    "def marginal_entropy(y):\n",
    "    y_1 = tf.reduce_mean(y, axis=0) #1/N sum y_i\n",
    "    y_2 = -y_1 * tf.log(y_1+epsilon)\n",
    "    y_3 = tf.reduce_sum(y_2)\n",
    "    return y_3\n",
    "\n",
    "def entropy(y):\n",
    "    #batch_size= K.int_shape(y)[0]\n",
    "    y_1 = -y * tf.log(y+epsilon)\n",
    "    y_2 = tf.reduce_sum(y_1,axis=1)\n",
    "    y_3 = tf.reduce_mean(y_2,axis=0)\n",
    "    return y_3"
   ]
  },
  {
   "cell_type": "code",
   "execution_count": 14,
   "metadata": {},
   "outputs": [
    {
     "name": "stdout",
     "output_type": "stream",
     "text": [
      "[100   2   1]\n"
     ]
    }
   ],
   "source": [
    "print deconv_info[0]"
   ]
  },
  {
   "cell_type": "code",
   "execution_count": 15,
   "metadata": {},
   "outputs": [],
   "source": [
    "#from util import log\n",
    "z = tf.random_uniform([batch_size, nz], minval=-1, maxval=1, dtype=tf.float32)\n",
    "G_sample = G(z)\n",
    "\n",
    "D_real, D_real_logits = D(X, scope='Discriminator', reuse=False)\n",
    "D_fake, D_fake_logits = D(G_sample, scope='Discriminator', reuse=True)\n",
    "\n",
    "D_target = 1./mb_size\n",
    "G_target = 1./(mb_size*2)\n",
    "\n",
    "#Z = tf.reduce_sum(tf.exp(-D_real)) + tf.reduce_sum(tf.exp(-D_fake))\n",
    "\n",
    "#D_loss = tf.reduce_sum(D_target * D_real) + log(Z)\n",
    "#G_loss = tf.reduce_sum(G_target * D_real) + tf.reduce_sum(G_target * D_fake) + log(Z)\n",
    "\n",
    "D_loss = -marginal_entropy(D_real) + entropy(D_real) - entropy(D_fake) + tf.reduce_mean(tf.nn.softmax_cross_entropy_with_logits(labels=y, logits=D_real_logits))\n",
    "G_loss = -marginal_entropy(D_fake) + entropy(D_fake)\n",
    "\n",
    "all_vars = tf.trainable_variables()\n",
    "\n",
    "theta_D = [v for v in all_vars if v.name.startswith('Discriminator')]\n",
    "#log.warn(\"********* d_var ********** \"); slim.model_analyzer.analyze_vars(d_var, print_info=True)\n",
    "\n",
    "theta_G = [v for v in all_vars if v.name.startswith(('Generator'))]\n",
    "#log.warn(\"********* g_var ********** \"); slim.model_analyzer.analyze_vars(g_var, print_info=True)\n",
    "\n",
    "D_solver = (tf.train.AdamOptimizer(learning_rate=lr)\n",
    "            .minimize(D_loss, var_list=theta_D))\n",
    "G_solver = (tf.train.AdamOptimizer(learning_rate=lr)\n",
    "            .minimize(G_loss, var_list=theta_G))"
   ]
  },
  {
   "cell_type": "code",
   "execution_count": 16,
   "metadata": {},
   "outputs": [],
   "source": [
    "sess = tf.Session()\n",
    "sess.run(tf.global_variables_initializer())\n",
    "\n",
    "dir_name ='out_8/'\n",
    "if not os.path.exists(dir_name):\n",
    "    os.makedirs(dir_name)\n",
    "\n",
    "i = 0"
   ]
  },
  {
   "cell_type": "code",
   "execution_count": 17,
   "metadata": {},
   "outputs": [
    {
     "name": "stdout",
     "output_type": "stream",
     "text": [
      "Iter: 0; D_loss: 1.599; G_loss: -0.8193\n",
      "Iter: 100; D_loss: -2.201; G_loss: -1.244\n",
      "Iter: 200; D_loss: -2.27; G_loss: -1.36\n",
      "Iter: 300; D_loss: -2.46; G_loss: -1.296\n",
      "Iter: 400; D_loss: -2.549; G_loss: -1.072\n",
      "Iter: 500; D_loss: -2.675; G_loss: -1.275\n",
      "Iter: 600; D_loss: -2.411; G_loss: -0.9728\n",
      "Iter: 700; D_loss: -2.401; G_loss: -1.041\n",
      "Iter: 800; D_loss: -2.751; G_loss: -1.115\n",
      "Iter: 900; D_loss: -2.48; G_loss: -1.153\n",
      "Iter: 1000; D_loss: -2.247; G_loss: -1.135\n",
      "Iter: 1100; D_loss: -2.506; G_loss: -1.152\n",
      "Iter: 1200; D_loss: -2.553; G_loss: -1.153\n",
      "Iter: 1300; D_loss: -2.43; G_loss: -1.074\n",
      "Iter: 1400; D_loss: -2.753; G_loss: -0.9868\n",
      "Iter: 1500; D_loss: -2.067; G_loss: -1.164\n",
      "Iter: 1600; D_loss: -2.7; G_loss: -1.167\n",
      "Iter: 1700; D_loss: -2.401; G_loss: -1.152\n",
      "Iter: 1800; D_loss: -2.315; G_loss: -1.372\n",
      "Iter: 1900; D_loss: -2.756; G_loss: -1.218\n",
      "Iter: 2000; D_loss: -2.505; G_loss: -1.21\n",
      "Iter: 2100; D_loss: -2.711; G_loss: -1.156\n",
      "Iter: 2200; D_loss: -2.751; G_loss: -1.081\n",
      "Iter: 2300; D_loss: -2.626; G_loss: -1.269\n",
      "Iter: 2400; D_loss: -2.354; G_loss: -1.181\n",
      "Iter: 2500; D_loss: -2.608; G_loss: -1.158\n",
      "Iter: 2600; D_loss: -2.581; G_loss: -1.364\n",
      "Iter: 2700; D_loss: -2.493; G_loss: -1.324\n",
      "Iter: 2800; D_loss: -2.399; G_loss: -1.273\n",
      "Iter: 2900; D_loss: -2.502; G_loss: -1.339\n",
      "Iter: 3000; D_loss: -2.47; G_loss: -1.253\n",
      "Iter: 3100; D_loss: -2.507; G_loss: -1.423\n",
      "Iter: 3200; D_loss: -2.754; G_loss: -1.138\n",
      "Iter: 3300; D_loss: -2.649; G_loss: -1.22\n",
      "Iter: 3400; D_loss: -2.517; G_loss: -1.206\n",
      "Iter: 3500; D_loss: -2.517; G_loss: -1.509\n",
      "Iter: 3600; D_loss: -2.016; G_loss: -1.175\n",
      "Iter: 3700; D_loss: -2.286; G_loss: -1.373\n",
      "Iter: 3800; D_loss: -2.696; G_loss: -1.331\n",
      "Iter: 3900; D_loss: -2.353; G_loss: -1.392\n",
      "Iter: 4000; D_loss: -2.576; G_loss: -1.137\n",
      "Iter: 4100; D_loss: -2.253; G_loss: -1.273\n",
      "Iter: 4200; D_loss: -2.662; G_loss: -1.454\n",
      "Iter: 4300; D_loss: -2.586; G_loss: -1.262\n",
      "Iter: 4400; D_loss: -2.8; G_loss: -1.316\n",
      "Iter: 4500; D_loss: -2.45; G_loss: -1.278\n",
      "Iter: 4600; D_loss: -2.176; G_loss: -1.095\n",
      "Iter: 4700; D_loss: -2.896; G_loss: -1.201\n",
      "Iter: 4800; D_loss: -2.214; G_loss: -1.258\n",
      "Iter: 4900; D_loss: -2.338; G_loss: -1.292\n",
      "Iter: 5000; D_loss: -2.789; G_loss: -1.4\n",
      "Iter: 5100; D_loss: -2.542; G_loss: -1.246\n",
      "Iter: 5200; D_loss: -2.426; G_loss: -1.32\n",
      "Iter: 5300; D_loss: -1.956; G_loss: -1.394\n",
      "Iter: 5400; D_loss: -2.664; G_loss: -1.187\n",
      "Iter: 5500; D_loss: -2.346; G_loss: -1.383\n",
      "Iter: 5600; D_loss: -2.738; G_loss: -1.145\n",
      "Iter: 5700; D_loss: -2.632; G_loss: -1.232\n",
      "Iter: 5800; D_loss: -2.023; G_loss: -1.311\n",
      "Iter: 5900; D_loss: -2.763; G_loss: -1.296\n",
      "Iter: 6000; D_loss: -2.597; G_loss: -1.335\n",
      "Iter: 6100; D_loss: -2.415; G_loss: -1.386\n",
      "Iter: 6200; D_loss: -2.464; G_loss: -1.214\n",
      "Iter: 6300; D_loss: -2.535; G_loss: -1.158\n",
      "Iter: 6400; D_loss: -2.5; G_loss: -1.232\n",
      "Iter: 6500; D_loss: -2.468; G_loss: -1.433\n",
      "Iter: 6600; D_loss: -2.323; G_loss: -1.189\n",
      "Iter: 6700; D_loss: -2.638; G_loss: -1.354\n",
      "Iter: 6800; D_loss: -2.566; G_loss: -1.306\n",
      "Iter: 6900; D_loss: -2.695; G_loss: -1.243\n",
      "Iter: 7000; D_loss: -2.291; G_loss: -1.265\n",
      "Iter: 7100; D_loss: -2.738; G_loss: -1.241\n",
      "Iter: 7200; D_loss: -2.384; G_loss: -1.614\n",
      "Iter: 7300; D_loss: -2.436; G_loss: -1.463\n",
      "Iter: 7400; D_loss: -2.299; G_loss: -1.105\n",
      "Iter: 7500; D_loss: -2.314; G_loss: -1.252\n",
      "Iter: 7600; D_loss: -2.414; G_loss: -1.347\n",
      "Iter: 7700; D_loss: -2.526; G_loss: -1.132\n",
      "Iter: 7800; D_loss: -2.172; G_loss: -1.131\n",
      "Iter: 7900; D_loss: -2.5; G_loss: -1.233\n",
      "Iter: 8000; D_loss: -2.627; G_loss: -1.401\n",
      "Iter: 8100; D_loss: -2.448; G_loss: -1.17\n",
      "Iter: 8200; D_loss: -2.48; G_loss: -1.41\n",
      "Iter: 8300; D_loss: -2.343; G_loss: -1.318\n",
      "Iter: 8400; D_loss: -2.355; G_loss: -1.665\n",
      "Iter: 8500; D_loss: -2.341; G_loss: -1.137\n",
      "Iter: 8600; D_loss: -2.462; G_loss: -1.324\n",
      "Iter: 8700; D_loss: -1.984; G_loss: -1.324\n",
      "Iter: 8800; D_loss: -2.221; G_loss: -1.405\n",
      "Iter: 8900; D_loss: -2.366; G_loss: -1.253\n",
      "Iter: 9000; D_loss: -2.934; G_loss: -1.359\n",
      "Iter: 9100; D_loss: -2.421; G_loss: -1.239\n",
      "Iter: 9200; D_loss: -2.412; G_loss: -1.203\n",
      "Iter: 9300; D_loss: -2.35; G_loss: -1.279\n",
      "Iter: 9400; D_loss: -2.243; G_loss: -1.415\n",
      "Iter: 9500; D_loss: -2.584; G_loss: -1.077\n",
      "Iter: 9600; D_loss: -2.177; G_loss: -1.307\n",
      "Iter: 9700; D_loss: -2.515; G_loss: -1.122\n",
      "Iter: 9800; D_loss: -2.452; G_loss: -1.269\n",
      "Iter: 9900; D_loss: -2.4; G_loss: -1.155\n"
     ]
    }
   ],
   "source": [
    "#100,000 is good\n",
    "#print every 1000\n",
    "g_loss_overall = []\n",
    "d_loss_overall = []\n",
    "for it in range(10000):\n",
    "    X_mb, y_mb = mnist.train.next_batch(mb_size)\n",
    "    X_mb = X_mb.reshape([mb_size, 28, 28, 1])\n",
    "    #z_mb = sample_z(mb_size, z_dim)\n",
    "\n",
    "    _, D_loss_curr = sess.run(\n",
    "        [D_solver, D_loss], feed_dict={X: X_mb, y: y_mb}\n",
    "    )\n",
    "\n",
    "    _, G_loss_curr = sess.run(\n",
    "        [G_solver, G_loss], feed_dict={X: X_mb, y: y_mb}\n",
    "    )\n",
    "\n",
    "    if it % 100 == 0:\n",
    "        print('Iter: {}; D_loss: {:.4}; G_loss: {:.4}'\n",
    "              .format(it, D_loss_curr, G_loss_curr))\n",
    "        g_loss_overall.append(G_loss_curr)\n",
    "        d_loss_overall.append(D_loss_curr)\n",
    "        #z_mb = sample_z(16, z_dim)\n",
    "        samples = sess.run(G_sample)\n",
    "\n",
    "        fig = plot(samples)\n",
    "        plt.savefig(dir_name+'{}.png'\n",
    "                    .format(str(i).zfill(3)), bbox_inches='tight')\n",
    "        i += 1\n",
    "        plt.close(fig)"
   ]
  },
  {
   "cell_type": "code",
   "execution_count": 18,
   "metadata": {},
   "outputs": [
    {
     "data": {
      "image/png": "[encoded data removed]",
      "text/plain": [
       "<matplotlib.figure.Figure at 0x7fa723f83610>"
      ]
     },
     "metadata": {},
     "output_type": "display_data"
    }
   ],
   "source": [
    "plt.figure()\n",
    "#print g_loss_overall\n",
    "#print d_loss_overall\n",
    "g_loss_plot, = plt.plot(g_loss_overall, label='G Loss')\n",
    "d_loss_plot, = plt.plot(d_loss_overall, label='D Loss')\n",
    "\n",
    "plt.legend([g_loss_plot, d_loss_plot], ['G Loss', 'D Loss'])\n",
    "plt.savefig(dir_name+'plot_for_catgan_.png')"
   ]
  }
 ],
 "metadata": {
  "kernelspec": {
   "display_name": "Python 2",
   "language": "python",
   "name": "python2"
  },
  "language_info": {
   "codemirror_mode": {
    "name": "ipython",
    "version": 2
   },
   "file_extension": ".py",
   "mimetype": "text/x-python",
   "name": "python",
   "nbconvert_exporter": "python",
   "pygments_lexer": "ipython2",
   "version": "2.7.14"
  }
 },
 "nbformat": 4,
 "nbformat_minor": 2
}
